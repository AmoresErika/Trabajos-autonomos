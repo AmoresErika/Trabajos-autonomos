{
 "cells": [
  {
   "cell_type": "markdown",
   "id": "05108c2a",
   "metadata": {
    "notebookRunGroups": {
     "groupValue": "2"
    }
   },
   "source": [
    "# PROGRAMACIÓN 2\n",
    "# Actividad Autónoma 1\n",
    "\n",
    "# Unidad 1: *Fundamentos de la Programación Orientada a Objetos (POO)*\n",
    "\n",
    "*Tema 1: Introducción a la POO, Clases y Objetos*\n",
    "\n",
    "\n",
    "Nombres: Erika Amores\n",
    "\n",
    "Fecha: 22/10/2025\n",
    "\n",
    "Carrera: Ciencia de Datos \n",
    "\n",
    "Periodo académico: 2s 2025\n",
    "\n",
    "Semestre: 2do Semestre"
   ]
  },
  {
   "cell_type": "markdown",
   "id": "1a546511",
   "metadata": {},
   "source": [
    "# Fundamentos de la Programación Orientada a Objetos (POO)\n",
    " *Instrcciones*\n",
    "\n",
    "> 1.\tImplementa la clase Sample en Python, que represente una flor del dataset Iris, con los siguientes atributos:\n",
    "o\tsepal_length (float)\n",
    "o\tsepal_width (float)\n",
    "o\tpetal_length (float)\n",
    "o\tpetal_width (float)\n",
    "o\tspecies (str) — este atributo debe estar encapsulado\n"
   ]
  },
  {
   "cell_type": "code",
   "execution_count": 1,
   "id": "72de8a9d",
   "metadata": {},
   "outputs": [],
   "source": [
    "class Sample:\n",
    "    \n",
    "    \n",
    "    def __init__(self, sepal_length: float, sepal_width: float,\n",
    "                 petal_length: float, petal_width: float,\n",
    "                 species: str):\n",
    "        self.sepal_length = sepal_length   # público\n",
    "        self.sepal_width = sepal_width     # público\n",
    "        self.petal_length = petal_length   # público\n",
    "        self.petal_width = petal_width     # público\n",
    "        self._species = species            # (1) species encapsulada (privada)\n",
    "    "
   ]
  }
 ],
 "metadata": {
  "kernelspec": {
   "display_name": "Python 3",
   "language": "python",
   "name": "python3"
  },
  "language_info": {
   "codemirror_mode": {
    "name": "ipython",
    "version": 3
   },
   "file_extension": ".py",
   "mimetype": "text/x-python",
   "name": "python",
   "nbconvert_exporter": "python",
   "pygments_lexer": "ipython3",
   "version": "3.14.0"
  }
 },
 "nbformat": 4,
 "nbformat_minor": 5
}
